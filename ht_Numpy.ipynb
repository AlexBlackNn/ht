{
  "cells": [
    {
      "cell_type": "code",
      "source": [
        "import numpy as np"
      ],
      "metadata": {
        "id": "SfY_GynmXl7u"
      },
      "execution_count": 1,
      "outputs": []
    },
    {
      "cell_type": "markdown",
      "source": [
        "Домашнее задание\n",
        "\n",
        "Задание 1\n",
        "Создайте numpy array с элементами от числа N до 0 (например, для N = 10 это будет array([9, 8, 7, 6, 5, 4, 3, 2, 1, 0])).\n"
      ],
      "metadata": {
        "id": "dyLOeLYxXWAv"
      }
    },
    {
      "cell_type": "code",
      "source": [
        "np.arange(10,-1,-1,dtype = np.int32)"
      ],
      "metadata": {
        "colab": {
          "base_uri": "https://localhost:8080/"
        },
        "id": "UUkfRSsGXVEt",
        "outputId": "4c69204d-53ea-46af-d595-19105be4d7a6"
      },
      "execution_count": 2,
      "outputs": [
        {
          "output_type": "execute_result",
          "data": {
            "text/plain": [
              "array([10,  9,  8,  7,  6,  5,  4,  3,  2,  1,  0], dtype=int32)"
            ]
          },
          "metadata": {},
          "execution_count": 2
        }
      ]
    },
    {
      "cell_type": "code",
      "source": [
        "np.linspace(10,0,11,dtype = np.int32)"
      ],
      "metadata": {
        "colab": {
          "base_uri": "https://localhost:8080/"
        },
        "id": "uvKjzAjkXya_",
        "outputId": "6a8aa4f4-5cb8-4968-ce4e-1eb3c77b2839"
      },
      "execution_count": 3,
      "outputs": [
        {
          "output_type": "execute_result",
          "data": {
            "text/plain": [
              "array([10,  9,  8,  7,  6,  5,  4,  3,  2,  1,  0], dtype=int32)"
            ]
          },
          "metadata": {},
          "execution_count": 3
        }
      ]
    },
    {
      "cell_type": "markdown",
      "source": [
        "Задание 2\n",
        "Создайте диагональную матрицу с элементами от N до 0. Посчитайте сумму ее значений на диагонали.\n",
        "\n"
      ],
      "metadata": {
        "id": "sjbEHUtsXa3V"
      }
    },
    {
      "cell_type": "code",
      "source": [
        "def create_diag_matrix(N):\n",
        "  diag_mat = np.diag(np.arange(N,-1,-1,dtype = np.int32), k=0)\n",
        "  diag_sum = np.sum(diag_mat)\n",
        "  return diag_mat, diag_sum"
      ],
      "metadata": {
        "id": "tX5K6vzzXc8W"
      },
      "execution_count": 4,
      "outputs": []
    },
    {
      "cell_type": "code",
      "source": [
        "diag_mat,diag_sum = create_diag_matrix(10)"
      ],
      "metadata": {
        "id": "mBMHoEYcZS6d"
      },
      "execution_count": 5,
      "outputs": []
    },
    {
      "cell_type": "code",
      "source": [
        "diag_mat"
      ],
      "metadata": {
        "colab": {
          "base_uri": "https://localhost:8080/"
        },
        "id": "V2wFwckJZdV0",
        "outputId": "bd771d69-46ef-49a0-811c-dfdde8a91b18"
      },
      "execution_count": 6,
      "outputs": [
        {
          "output_type": "execute_result",
          "data": {
            "text/plain": [
              "array([[10,  0,  0,  0,  0,  0,  0,  0,  0,  0,  0],\n",
              "       [ 0,  9,  0,  0,  0,  0,  0,  0,  0,  0,  0],\n",
              "       [ 0,  0,  8,  0,  0,  0,  0,  0,  0,  0,  0],\n",
              "       [ 0,  0,  0,  7,  0,  0,  0,  0,  0,  0,  0],\n",
              "       [ 0,  0,  0,  0,  6,  0,  0,  0,  0,  0,  0],\n",
              "       [ 0,  0,  0,  0,  0,  5,  0,  0,  0,  0,  0],\n",
              "       [ 0,  0,  0,  0,  0,  0,  4,  0,  0,  0,  0],\n",
              "       [ 0,  0,  0,  0,  0,  0,  0,  3,  0,  0,  0],\n",
              "       [ 0,  0,  0,  0,  0,  0,  0,  0,  2,  0,  0],\n",
              "       [ 0,  0,  0,  0,  0,  0,  0,  0,  0,  1,  0],\n",
              "       [ 0,  0,  0,  0,  0,  0,  0,  0,  0,  0,  0]], dtype=int32)"
            ]
          },
          "metadata": {},
          "execution_count": 6
        }
      ]
    },
    {
      "cell_type": "code",
      "source": [
        "diag_sum"
      ],
      "metadata": {
        "colab": {
          "base_uri": "https://localhost:8080/"
        },
        "id": "-j_73FbvZekr",
        "outputId": "80c0bc1a-2935-4291-e59a-929a29631d31"
      },
      "execution_count": 7,
      "outputs": [
        {
          "output_type": "execute_result",
          "data": {
            "text/plain": [
              "55"
            ]
          },
          "metadata": {},
          "execution_count": 7
        }
      ]
    },
    {
      "cell_type": "markdown",
      "source": [
        "Задание 3\n",
        "Решите систему уравнений:\n",
        "\n",
        "4x + 2y + z = 4\n",
        "\n",
        "x + 3y = 12\n",
        "\n",
        "5y + 4z = -3\n"
      ],
      "metadata": {
        "id": "4qE6CdNPXdLn"
      }
    },
    {
      "cell_type": "code",
      "source": [
        "eq_1 = [4, 2, 1]\n",
        "eq_2 = [1, 3, 0]\n",
        "eq_3 = [0, 5, 4] \n",
        "res = [4, 12, -3]\n",
        "\n",
        "answ = np.linalg.solve([eq_1,eq_2,eq_3], res)\n",
        "x = answ[0]\n",
        "y = answ[1]\n",
        "z = answ[2]\n",
        "print('x =',x)\n",
        "print('y =',y)\n",
        "print('z =',z)"
      ],
      "metadata": {
        "colab": {
          "base_uri": "https://localhost:8080/"
        },
        "id": "M9BpTJhxXehe",
        "outputId": "bcd0b827-dbfb-4124-c85b-0fb7f0a20f96"
      },
      "execution_count": 8,
      "outputs": [
        {
          "output_type": "stream",
          "name": "stdout",
          "text": [
            "x = 0.4666666666666668\n",
            "y = 3.844444444444444\n",
            "z = -5.555555555555555\n"
          ]
        }
      ]
    },
    {
      "cell_type": "code",
      "source": [
        "np.allclose(np.dot([eq_1,eq_2,eq_3], answ), res) "
      ],
      "metadata": {
        "colab": {
          "base_uri": "https://localhost:8080/"
        },
        "id": "QgshaDLQkP7q",
        "outputId": "61465edd-e835-4df1-89f6-2f9dcbeb216b"
      },
      "execution_count": 9,
      "outputs": [
        {
          "output_type": "execute_result",
          "data": {
            "text/plain": [
              "True"
            ]
          },
          "metadata": {},
          "execution_count": 9
        }
      ]
    },
    {
      "cell_type": "markdown",
      "source": [
        "Задание 4\n",
        "В материалах занятия раздел “Задача 4 домашнего задания”"
      ],
      "metadata": {
        "id": "L08eufb6Xe3n"
      }
    },
    {
      "cell_type": "markdown",
      "metadata": {
        "id": "_Lb_UvzXS8Qw"
      },
      "source": [
        "# Скалярное произведение векторов"
      ]
    },
    {
      "cell_type": "markdown",
      "metadata": {
        "id": "Dm9r5aO7S8Qx"
      },
      "source": [
        "\\begin{equation*}\n",
        "\\LARGE\n",
        "\\vec{a} \\dot{} \\vec{b} = |\\vec{a}| \\space |\\vec{b}| \\space cos(\\vec{a}, \\vec{b})\n",
        "\\end{equation*}"
      ]
    },
    {
      "cell_type": "markdown",
      "metadata": {
        "id": "Y2vtsV5kS8Qx"
      },
      "source": [
        "Пусть \n",
        "\\begin{equation*}\n",
        "\\LARGE\n",
        "\\vec{a} = (a_1, a_2, a_3) \\\\\n",
        "\\LARGE\n",
        "\\vec{b} = (b_1, b_2, b_3)\n",
        "\\end{equation*}"
      ]
    },
    {
      "cell_type": "markdown",
      "metadata": {
        "id": "kpc8Z8W2S8Qx"
      },
      "source": [
        "Тогда скалярное произведение векторов равно\n",
        "\\begin{equation*}\n",
        "\\LARGE\n",
        "\\vec{a} \\dot{} \\vec{b} = a_1 b_1 + a_2 b_2 + a_3 b_3\n",
        "\\end{equation*}"
      ]
    },
    {
      "cell_type": "markdown",
      "metadata": {
        "id": "A6Roq1P7S8Q0"
      },
      "source": [
        "# Косинусное сходство между векторами"
      ]
    },
    {
      "cell_type": "markdown",
      "metadata": {
        "id": "LlPpy7kES8Q0"
      },
      "source": [
        "\\begin{equation*}\n",
        "\\LARGE\n",
        "cos(\\vec{a}, \\vec{b}) = \\frac{\\vec{a} \\dot{} \\vec{b}}{|\\vec{a}| \\space |\\vec{b}|}\n",
        "\\end{equation*}"
      ]
    },
    {
      "cell_type": "markdown",
      "metadata": {
        "id": "iB0iXPDiS8Q2"
      },
      "source": [
        "## Задача 4 домашнего задания"
      ]
    },
    {
      "cell_type": "markdown",
      "metadata": {
        "id": "7gWOuNoOS8Q2"
      },
      "source": [
        "Имеется матрица покупок в интернет-магазине. Столбец А - ID пользователя. Остальные столбцы - количество покупок категорий товаров этим пользователем:"
      ]
    },
    {
      "cell_type": "markdown",
      "metadata": {
        "id": "xBcJcLlpS8Q3"
      },
      "source": [
        "Матрица в виде numpy array"
      ]
    },
    {
      "cell_type": "code",
      "execution_count": 10,
      "metadata": {
        "id": "8III9irkS8Q3"
      },
      "outputs": [],
      "source": [
        "users_stats = np.array(\n",
        "    [\n",
        "        [2, 1, 0, 0, 0, 0],\n",
        "        [1, 1, 2, 1, 0, 0],\n",
        "        [2, 0, 1, 0, 0, 0],\n",
        "        [1, 1, 2, 1, 0, 1],\n",
        "        [0, 0, 1, 2, 0, 0],\n",
        "        [0, 0, 0, 0, 0, 5],\n",
        "        [1, 0, 0, 0, 0, 0],\n",
        "        [0, 1, 1, 0, 0, 0],\n",
        "        [0, 0, 0, 1, 1, 3],\n",
        "        [1, 0, 0, 2, 1, 4]\n",
        "    ], \n",
        "    np.int32\n",
        ")"
      ]
    },
    {
      "cell_type": "markdown",
      "metadata": {
        "id": "_dQzmKzTS8Q3"
      },
      "source": [
        "На сайт заходит очередной посетитель, о покупках которого известно следующее:"
      ]
    },
    {
      "cell_type": "code",
      "execution_count": 11,
      "metadata": {
        "id": "KsX-4n0ES8Q3"
      },
      "outputs": [],
      "source": [
        "next_user_stats = np.array([0, 1, 2, 0, 0, 0])"
      ]
    },
    {
      "cell_type": "markdown",
      "metadata": {
        "id": "I637tuUSS8Q4"
      },
      "source": [
        "Найдите самого похожего пользователя. Т. е. посчитайте косинусное сходство между этим пользователем и всеми пользователями из массива user_stats"
      ]
    },
    {
      "cell_type": "code",
      "source": [
        "def who_is_similar(users_stats,next_user_stats):\n",
        "   numerator = np.dot(users_stats,next_user_stats.T)\n",
        "   norm_users_stats = np.linalg.norm(users_stats, axis = 1)\n",
        "   norm_next_user_stats = np.linalg.norm(users_stats)\n",
        "   denominator = norm_users_stats * norm_next_user_stats\n",
        "   cosine_metric = numerator/denominator \n",
        "   return np.argmax(cosine_metric)"
      ],
      "metadata": {
        "id": "vRmmAwOiVez5"
      },
      "execution_count": 12,
      "outputs": []
    },
    {
      "cell_type": "code",
      "source": [
        "user_similar_index = who_is_similar(users_stats,next_user_stats)\n",
        "user_similar_index"
      ],
      "metadata": {
        "colab": {
          "base_uri": "https://localhost:8080/"
        },
        "id": "0eZVSEmNWhj3",
        "outputId": "7b6ed014-6c2a-48e8-a215-597d15824e97"
      },
      "execution_count": 13,
      "outputs": [
        {
          "output_type": "execute_result",
          "data": {
            "text/plain": [
              "7"
            ]
          },
          "metadata": {},
          "execution_count": 13
        }
      ]
    },
    {
      "cell_type": "code",
      "source": [
        "users_stats[user_similar_index,:]"
      ],
      "metadata": {
        "colab": {
          "base_uri": "https://localhost:8080/"
        },
        "id": "Dtu-tXCCZ9UF",
        "outputId": "e358acc2-62cb-4657-9827-a183cc3c95d7"
      },
      "execution_count": 14,
      "outputs": [
        {
          "output_type": "execute_result",
          "data": {
            "text/plain": [
              "array([0, 1, 1, 0, 0, 0], dtype=int32)"
            ]
          },
          "metadata": {},
          "execution_count": 14
        }
      ]
    }
  ],
  "metadata": {
    "kernelspec": {
      "display_name": "Python 3",
      "language": "python",
      "name": "python3"
    },
    "language_info": {
      "codemirror_mode": {
        "name": "ipython",
        "version": 3
      },
      "file_extension": ".py",
      "mimetype": "text/x-python",
      "name": "python",
      "nbconvert_exporter": "python",
      "pygments_lexer": "ipython3",
      "version": "3.7.0"
    },
    "colab": {
      "name": "ht_Numpy.ipynb",
      "provenance": [],
      "collapsed_sections": []
    }
  },
  "nbformat": 4,
  "nbformat_minor": 0
}